{
 "cells": [
  {
   "cell_type": "markdown",
   "metadata": {},
   "source": [
    "### https://docs.julialang.org/en/v0.6.2/manual/constructors/#man-constructors-1"
   ]
  },
  {
   "cell_type": "markdown",
   "metadata": {},
   "source": [
    "### https://docs.julialang.org/en/stable/manual/types/index.html#Parametric-Composite-Types-1"
   ]
  },
  {
   "cell_type": "markdown",
   "metadata": {},
   "source": [
    "### Define structure\n",
    "struct player\n",
    "           fn::String\n",
    "           ln::String\n",
    "end\n",
    "\n",
    "##  'Types' would be better\n",
    "### https://github.com/SubhankarGhosh/Julia-Tutorials/blob/master/Learn%20X%20in%20Y%20minutes%20Where%20X%3DJulia/Learn%20X%20in%20Y%20minutes(Part%205).ipynb"
   ]
  },
  {
   "cell_type": "code",
   "execution_count": 1,
   "metadata": {},
   "outputs": [],
   "source": [
    "type player\n",
    "  fn::String\n",
    "  ln::String\n",
    "end"
   ]
  },
  {
   "cell_type": "markdown",
   "metadata": {},
   "source": [
    "### https://stackoverflow.com/questions/46863422/immutable-vs-struct-and-type-vs-mutable-struct-in-julia"
   ]
  },
  {
   "cell_type": "code",
   "execution_count": 2,
   "metadata": {},
   "outputs": [],
   "source": [
    "# Player is  player(String, String)\n",
    "# interp. player(String, String) is a hockey player with\n",
    "#        fn is the first name\n",
    "#        ln is the last name"
   ]
  },
  {
   "cell_type": "code",
   "execution_count": 3,
   "metadata": {},
   "outputs": [],
   "source": [
    "# Examples:\n",
    "# player(\"Bobby\", \"Orr\")\n",
    "# player(\"Wayne\", \"Gretzky\")"
   ]
  },
  {
   "cell_type": "code",
   "execution_count": 4,
   "metadata": {},
   "outputs": [],
   "source": [
    "#=\n",
    "function fn_for_player(p)\n",
    "    (...(player_fn p)  #String\n",
    "        (player_ln p)) #String\n",
    "end\n",
    "=#"
   ]
  },
  {
   "cell_type": "code",
   "execution_count": 5,
   "metadata": {},
   "outputs": [],
   "source": [
    "# Template rules used:\n",
    "# - Compound: 2 fields"
   ]
  },
  {
   "cell_type": "code",
   "execution_count": 6,
   "metadata": {},
   "outputs": [
    {
     "data": {
      "text/plain": [
       "Player"
      ]
     },
     "execution_count": 6,
     "metadata": {},
     "output_type": "execute_result"
    }
   ],
   "source": [
    "# Set a default in a constructor.\n",
    "struct Player{T}\n",
    "    fn::T\n",
    "    ln::T\n",
    "end\n",
    "\n",
    "Player(fn, ln) = Player{String}(fn, ln)"
   ]
  },
  {
   "cell_type": "code",
   "execution_count": 9,
   "metadata": {},
   "outputs": [
    {
     "data": {
      "text/plain": [
       "Player{String}(\"Bobby\", \"Orr\")"
      ]
     },
     "execution_count": 9,
     "metadata": {},
     "output_type": "execute_result"
    }
   ],
   "source": [
    "BO = Player(\"Bobby\", \"Orr\")"
   ]
  },
  {
   "cell_type": "code",
   "execution_count": 10,
   "metadata": {},
   "outputs": [
    {
     "data": {
      "text/plain": [
       "Player{String}(\"Wayne\", \"Gretzky\")"
      ]
     },
     "execution_count": 10,
     "metadata": {},
     "output_type": "execute_result"
    }
   ],
   "source": [
    "WG = Player(\"Wayne\", \"Gretzky\")"
   ]
  },
  {
   "cell_type": "code",
   "execution_count": 11,
   "metadata": {},
   "outputs": [
    {
     "data": {
      "text/plain": [
       "Player{String}(\"Bobby\", \"Orr\")"
      ]
     },
     "execution_count": 11,
     "metadata": {},
     "output_type": "execute_result"
    }
   ],
   "source": [
    "BO"
   ]
  },
  {
   "cell_type": "code",
   "execution_count": 12,
   "metadata": {},
   "outputs": [
    {
     "data": {
      "text/plain": [
       "Player{String}(\"Wayne\", \"Gretzky\")"
      ]
     },
     "execution_count": 12,
     "metadata": {},
     "output_type": "execute_result"
    }
   ],
   "source": [
    "WG"
   ]
  },
  {
   "cell_type": "code",
   "execution_count": null,
   "metadata": {},
   "outputs": [],
   "source": []
  }
 ],
 "metadata": {
  "kernelspec": {
   "display_name": "Julia 0.6.3",
   "language": "julia",
   "name": "julia-0.6"
  },
  "language_info": {
   "file_extension": ".jl",
   "mimetype": "application/julia",
   "name": "julia",
   "version": "0.6.3"
  }
 },
 "nbformat": 4,
 "nbformat_minor": 2
}
