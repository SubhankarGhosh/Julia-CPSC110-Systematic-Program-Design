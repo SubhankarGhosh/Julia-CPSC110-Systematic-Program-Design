{
 "cells": [
  {
   "cell_type": "code",
   "execution_count": 1,
   "metadata": {},
   "outputs": [],
   "source": [
    "# LetterGrade is one of:\n",
    "#  - \"A\" 0\n",
    "#  - \"B\" 1\n",
    "#  - \"C\" 2\n",
    "# interp. the letter grade in a course\n",
    "# 0 means A, 1 means B, 2 means C\n",
    "\n",
    "# <examples are redundant for enumerations>\n",
    " \n",
    "#=\n",
    "function fn_for_letter_grade(lg)\n",
    "   if   [(lg = \"A\") (...)]\n",
    "        [(lg = \"B\") (...)]\n",
    "        [(lg = \"C\") (...)]))\n",
    "end\n",
    "=#\n",
    "# Template rules used:\n",
    "#  - one of: 3 cases\n",
    "#  - atomic distinct value: \"A\"\n",
    "#  - atomic distinct value: \"B\"\n",
    "#  - atomic distinct value: \"C\""
   ]
  },
  {
   "cell_type": "code",
   "execution_count": 2,
   "metadata": {},
   "outputs": [
    {
     "data": {
      "text/plain": [
       "bump_up (generic function with 1 method)"
      ]
     },
     "execution_count": 2,
     "metadata": {},
     "output_type": "execute_result"
    }
   ],
   "source": [
    "#Functions:\n",
    "#LetterGrade -> LetterGrade\n",
    "bump_up(lg) = nothing #stub"
   ]
  },
  {
   "cell_type": "code",
   "execution_count": 3,
   "metadata": {},
   "outputs": [
    {
     "name": "stdout",
     "output_type": "stream",
     "text": [
      "\u001b[1m\u001b[91mTest Failed\n",
      "\u001b[39m\u001b[22m  Expression: bump_up(\"A\") == \"A\"\n",
      "   Evaluated: nothing == \"A\"\n"
     ]
    },
    {
     "ename": "LoadError",
     "evalue": "\u001b[91mThere was an error during testing\u001b[39m",
     "output_type": "error",
     "traceback": [
      "\u001b[91mThere was an error during testing\u001b[39m",
      "",
      "Stacktrace:",
      " [1] \u001b[1mrecord\u001b[22m\u001b[22m\u001b[1m(\u001b[22m\u001b[22m::Base.Test.FallbackTestSet, ::Base.Test.Fail\u001b[1m)\u001b[22m\u001b[22m at \u001b[1m./test.jl:533\u001b[22m\u001b[22m",
      " [2] \u001b[1mdo_test\u001b[22m\u001b[22m\u001b[1m(\u001b[22m\u001b[22m::Base.Test.Returned, ::Expr\u001b[1m)\u001b[22m\u001b[22m at \u001b[1m./test.jl:352\u001b[22m\u001b[22m"
     ]
    }
   ],
   "source": [
    "using Base.Test\n",
    "#produce next highest letter grade(no change for A)\n",
    "@test bump_up(\"A\") == \"A\"\n",
    "@test bump_up(\"B\") == \"A\"\n",
    "@test bump_up(\"C\") == \"B\""
   ]
  },
  {
   "cell_type": "code",
   "execution_count": 4,
   "metadata": {},
   "outputs": [
    {
     "data": {
      "text/plain": [
       "bump_up (generic function with 1 method)"
      ]
     },
     "execution_count": 4,
     "metadata": {},
     "output_type": "execute_result"
    }
   ],
   "source": [
    "#use template from LetterGrade\n",
    "bump_up(lg) = (lg == \"A\")?\"A\":((lg == \"B\")?\"A\":(if (lg == \"C\") \"B\" end))"
   ]
  },
  {
   "cell_type": "code",
   "execution_count": 5,
   "metadata": {},
   "outputs": [
    {
     "data": {
      "text/plain": [
       "\u001b[1m\u001b[32mTest Passed\u001b[39m\u001b[22m"
      ]
     },
     "execution_count": 5,
     "metadata": {},
     "output_type": "execute_result"
    }
   ],
   "source": [
    "@test bump_up(\"A\") == \"A\""
   ]
  },
  {
   "cell_type": "code",
   "execution_count": 6,
   "metadata": {},
   "outputs": [
    {
     "data": {
      "text/plain": [
       "\u001b[1m\u001b[32mTest Passed\u001b[39m\u001b[22m"
      ]
     },
     "execution_count": 6,
     "metadata": {},
     "output_type": "execute_result"
    }
   ],
   "source": [
    "@test bump_up(\"B\") == \"A\""
   ]
  },
  {
   "cell_type": "code",
   "execution_count": 7,
   "metadata": {},
   "outputs": [
    {
     "data": {
      "text/plain": [
       "\u001b[1m\u001b[32mTest Passed\u001b[39m\u001b[22m"
      ]
     },
     "execution_count": 7,
     "metadata": {},
     "output_type": "execute_result"
    }
   ],
   "source": [
    "@test bump_up(\"C\") == \"B\""
   ]
  },
  {
   "cell_type": "code",
   "execution_count": null,
   "metadata": {},
   "outputs": [],
   "source": []
  }
 ],
 "metadata": {
  "kernelspec": {
   "display_name": "Julia 0.6.3",
   "language": "julia",
   "name": "julia-0.6"
  },
  "language_info": {
   "file_extension": ".jl",
   "mimetype": "application/julia",
   "name": "julia",
   "version": "0.6.3"
  }
 },
 "nbformat": 4,
 "nbformat_minor": 2
}
