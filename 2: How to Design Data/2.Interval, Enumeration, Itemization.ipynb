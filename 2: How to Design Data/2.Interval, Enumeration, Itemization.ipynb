{
 "cells": [
  {
   "cell_type": "markdown",
   "metadata": {},
   "source": [
    "### Interval"
   ]
  },
  {
   "cell_type": "code",
   "execution_count": 1,
   "metadata": {},
   "outputs": [
    {
     "data": {
      "text/plain": [
       "32"
      ]
     },
     "execution_count": 1,
     "metadata": {},
     "output_type": "execute_result"
    }
   ],
   "source": [
    "#Data definitions\n",
    "\n",
    "# SeatNum is Natural[1, 32]\n",
    "# interp. seat numbers in a row, 1 and 32 are aisle seats\n",
    "const SN1 = 1  # aisle\n",
    "const SN2 = 12 # middle\n",
    "const SN3 = 32 # aisle\n",
    " \n",
    "#=\n",
    "function fn_for_seat_num(sn)\n",
    "  #(... sn)\n",
    "end\n",
    "=#\n",
    "\n",
    "# Template rules used:\n",
    "#  - atomic non-distinct: Natural[1, 32]"
   ]
  },
  {
   "cell_type": "markdown",
   "metadata": {},
   "source": [
    "### Enumeration"
   ]
  },
  {
   "cell_type": "code",
   "execution_count": 2,
   "metadata": {},
   "outputs": [],
   "source": [
    "# LetterGrade is one of:\n",
    "#  - \"A\" 0\n",
    "#  - \"B\" 1\n",
    "#  - \"C\" 2\n",
    "# interp. the letter grade in a course\n",
    "# 0 means A, 1 means B, 2 means C\n",
    "\n",
    "# <examples are redundant for enumerations>\n",
    " \n",
    "#=\n",
    "function fn_for_letter_grade(lg)\n",
    "   if   [(lg = \"A\") (...)]\n",
    "        [(lg = \"B\") (...)]\n",
    "        [(lg = \"C\") (...)]))\n",
    "end\n",
    "=#\n",
    "# Template rules used:\n",
    "#  - one of: 3 cases\n",
    "#  - atomic distinct value: \"A\"\n",
    "#  - atomic distinct value: \"B\"\n",
    "#  - atomic distinct value: \"C\""
   ]
  },
  {
   "cell_type": "markdown",
   "metadata": {},
   "source": [
    "### Itemization"
   ]
  },
  {
   "cell_type": "code",
   "execution_count": 3,
   "metadata": {},
   "outputs": [
    {
     "data": {
      "text/plain": [
       "\"complete\""
      ]
     },
     "execution_count": 3,
     "metadata": {},
     "output_type": "execute_result"
    }
   ],
   "source": [
    "# CountDown is one of:\n",
    "#  - false\n",
    "#  - Natural[1,10]\n",
    "#  - \"complete\"\n",
    "# interp. \n",
    "#      false means countdown has not yet started\n",
    "#      Natural means countdown is running and how many seconds left\n",
    "#      \"complete\" means countdown is over\n",
    "\n",
    "CD1 = false\n",
    "CD2 = 10\n",
    "CD3 = 1\n",
    "CD4 = \"complete\"\n",
    "\n",
    "#=\n",
    "function fn_for_countdown(c)\n",
    "   if   [(c = false) (...)]\n",
    "        [(c = number and 1<=c and c<=10) (...c)]\n",
    "        [else (...)]))\n",
    "end\n",
    "=#\n",
    "# Template rules used:\n",
    "#  - one of: 3 cases\n",
    "#  - atomic distinct: false\n",
    "#  - atomic non-distinct: Natural[1,10]\n",
    "#  - atomic distinct: \"complete\""
   ]
  },
  {
   "cell_type": "code",
   "execution_count": null,
   "metadata": {},
   "outputs": [],
   "source": []
  }
 ],
 "metadata": {
  "kernelspec": {
   "display_name": "Julia 0.6.3",
   "language": "julia",
   "name": "julia-0.6"
  },
  "language_info": {
   "file_extension": ".jl",
   "mimetype": "application/julia",
   "name": "julia",
   "version": "0.6.3"
  }
 },
 "nbformat": 4,
 "nbformat_minor": 2
}
