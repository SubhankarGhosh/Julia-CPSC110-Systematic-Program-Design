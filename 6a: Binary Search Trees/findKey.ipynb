{
 "cells": [
  {
   "cell_type": "code",
   "execution_count": 1,
   "metadata": {},
   "outputs": [],
   "source": [
    "# Data definitions:\n",
    "\n",
    "struct node\n",
    "    key\n",
    "    val\n",
    "    l\n",
    "    r\n",
    "end\n",
    "# A BST (Binary Search Tree) is one of:\n",
    "#  - nothing\n",
    "#  - make-node Integer String BST BST\n",
    "# interp. nothing means no BST, or empty BST\n",
    "#         key is the node key\n",
    "#         val is the node val\n",
    "#         l and r are left and right subtrees\n",
    "# INVARIANT: for a given node:\n",
    "#     key is > all keys in its l(eft)  child\n",
    "#     key is < all keys in its r(ight) child\n",
    "#     the same key never appears twice in the tree"
   ]
  },
  {
   "cell_type": "code",
   "execution_count": null,
   "metadata": {},
   "outputs": [],
   "source": []
  },
  {
   "cell_type": "code",
   "execution_count": 3,
   "metadata": {},
   "outputs": [
    {
     "data": {
      "text/plain": [
       "node(10, \"why\", node(3, \"ilk\", node(1, \"abc\", nothing, nothing), node(4, \"dcj\", false, node(7, \"ruf\", nothing, nothing))), node(42, \"ily\", node(27, \"wit\", node(14, \"olp\", nothing, nothing), nothing), node(50, \"dug\", nothing, nothing)))"
      ]
     },
     "execution_count": 3,
     "metadata": {},
     "output_type": "execute_result"
    }
   ],
   "source": [
    "BST0 = nothing\n",
    "BST1 = node(1, \"abc\", nothing, nothing)\n",
    "BST4 = node(4, \"dcj\", false, node(7, \"ruf\", nothing, nothing))\n",
    "BST3 = node(3, \"ilk\", BST1, BST4)\n",
    "BST42 = node(42, \"ily\", node(27, \"wit\", node(14, \"olp\", nothing, nothing), nothing), node(50, \"dug\", nothing, nothing))\n",
    "BST10 = node(10, \"why\", BST3, BST42)"
   ]
  },
  {
   "cell_type": "code",
   "execution_count": 4,
   "metadata": {},
   "outputs": [],
   "source": [
    "#=\n",
    "function fn_for_bst(t)\n",
    "    (...)\n",
    "end\n",
    "=#"
   ]
  },
  {
   "cell_type": "code",
   "execution_count": 5,
   "metadata": {},
   "outputs": [],
   "source": [
    "# Template rules used:\n",
    "#  - one of: 2 cases\n",
    "#  - atomic-distinct: false\n",
    "#  - compound: (make-node Integer String BST BST)\n",
    "#  - self reference: (node-l t) has type BST\n",
    "#  - self reference: (node-r t) has type BST"
   ]
  },
  {
   "cell_type": "code",
   "execution_count": 9,
   "metadata": {},
   "outputs": [
    {
     "name": "stdout",
     "output_type": "stream",
     "text": [
      "\u001b[1m\u001b[91mError During Test\n",
      "\u001b[39m\u001b[22m  Test threw an exception of type UndefVarError\n",
      "  Expression: lookup_key(BST0, 99) == nothing\n",
      "  \u001b[91mUndefVarError: lookup_key not defined\u001b[39m\n",
      "  Stacktrace:\n",
      "   [1] \u001b[1minclude_string\u001b[22m\u001b[22m\u001b[1m(\u001b[22m\u001b[22m::String, ::String\u001b[1m)\u001b[22m\u001b[22m at \u001b[1m./loading.jl:522\u001b[22m\u001b[22m\n",
      "   [2] \u001b[1mexecute_request\u001b[22m\u001b[22m\u001b[1m(\u001b[22m\u001b[22m::ZMQ.Socket, ::IJulia.Msg\u001b[1m)\u001b[22m\u001b[22m at \u001b[1m/home/subhankar/.julia/v0.6/IJulia/src/execute_request.jl:158\u001b[22m\u001b[22m\n",
      "   [3] \u001b[1m(::Compat.#inner#18{Array{Any,1},IJulia.#execute_request,Tuple{ZMQ.Socket,IJulia.Msg}})\u001b[22m\u001b[22m\u001b[1m(\u001b[22m\u001b[22m\u001b[1m)\u001b[22m\u001b[22m at \u001b[1m/home/subhankar/.julia/v0.6/Compat/src/Compat.jl:378\u001b[22m\u001b[22m\n",
      "   [4] \u001b[1meventloop\u001b[22m\u001b[22m\u001b[1m(\u001b[22m\u001b[22m::ZMQ.Socket\u001b[1m)\u001b[22m\u001b[22m at \u001b[1m/home/subhankar/.julia/v0.6/IJulia/src/eventloop.jl:8\u001b[22m\u001b[22m\n",
      "   [5] \u001b[1m(::IJulia.##14#17)\u001b[22m\u001b[22m\u001b[1m(\u001b[22m\u001b[22m\u001b[1m)\u001b[22m\u001b[22m at \u001b[1m./task.jl:335\u001b[22m\u001b[22m\n"
     ]
    },
    {
     "ename": "LoadError",
     "evalue": "\u001b[91mThere was an error during testing\u001b[39m",
     "output_type": "error",
     "traceback": [
      "\u001b[91mThere was an error during testing\u001b[39m",
      "",
      "Stacktrace:",
      " [1] \u001b[1mrecord\u001b[22m\u001b[22m\u001b[1m(\u001b[22m\u001b[22m::Base.Test.FallbackTestSet, ::Base.Test.Error\u001b[1m)\u001b[22m\u001b[22m at \u001b[1m./test.jl:533\u001b[22m\u001b[22m",
      " [2] \u001b[1mdo_test\u001b[22m\u001b[22m\u001b[1m(\u001b[22m\u001b[22m::Base.Test.Threw, ::Expr\u001b[1m)\u001b[22m\u001b[22m at \u001b[1m./test.jl:352\u001b[22m\u001b[22m"
     ]
    }
   ],
   "source": [
    "#BST Natural -> String or nothing\n",
    "using Base.Test\n",
    "#Try to find node with given key, if found produce value; if not found produce nothing.\n",
    "@test lookup_key(BST0, 99) == nothing\n",
    "@test lookup_key(BST1, 1) == \"abc\"\n",
    "@test lookup_key(BST1, 0) == nothing\n",
    "@test lookup_key(BST1, 99) == nothing\n",
    "@test lookup_key(BST10, 1) == \"abc\"\n",
    "@test lookup_key(BST10, 4) == \"dcj\"\n",
    "@test lookup_key(BST10, 27) == \"wit\"\n",
    "@test lookup_key(BST10, 50) == \"dug\""
   ]
  },
  {
   "cell_type": "code",
   "execution_count": 10,
   "metadata": {},
   "outputs": [],
   "source": [
    "# lookup_key(t, k) = \"\" #stub"
   ]
  },
  {
   "cell_type": "code",
   "execution_count": 11,
   "metadata": {},
   "outputs": [
    {
     "data": {
      "text/plain": [
       "lookup_key (generic function with 1 method)"
      ]
     },
     "execution_count": 11,
     "metadata": {},
     "output_type": "execute_result"
    }
   ],
   "source": [
    "#template not according to BST, and additional atomic parameter k\n",
    "lookup_key(t, k) = (t==nothing)?nothing:((t.key==k)?t.val:((t.key>k)?lookup_key(t.l, k):lookup_key(t.r, k)))"
   ]
  },
  {
   "cell_type": "code",
   "execution_count": 12,
   "metadata": {},
   "outputs": [
    {
     "data": {
      "text/plain": [
       "\u001b[1m\u001b[32mTest Passed\u001b[39m\u001b[22m"
      ]
     },
     "execution_count": 12,
     "metadata": {},
     "output_type": "execute_result"
    }
   ],
   "source": [
    "@test lookup_key(BST0, 99) == nothing"
   ]
  },
  {
   "cell_type": "code",
   "execution_count": 13,
   "metadata": {},
   "outputs": [
    {
     "data": {
      "text/plain": [
       "\u001b[1m\u001b[32mTest Passed\u001b[39m\u001b[22m"
      ]
     },
     "execution_count": 13,
     "metadata": {},
     "output_type": "execute_result"
    }
   ],
   "source": [
    "@test lookup_key(BST1, 1) == \"abc\""
   ]
  },
  {
   "cell_type": "code",
   "execution_count": 14,
   "metadata": {},
   "outputs": [
    {
     "data": {
      "text/plain": [
       "\u001b[1m\u001b[32mTest Passed\u001b[39m\u001b[22m"
      ]
     },
     "execution_count": 14,
     "metadata": {},
     "output_type": "execute_result"
    }
   ],
   "source": [
    "@test lookup_key(BST1, 0) == nothing"
   ]
  },
  {
   "cell_type": "code",
   "execution_count": 15,
   "metadata": {},
   "outputs": [
    {
     "data": {
      "text/plain": [
       "\u001b[1m\u001b[32mTest Passed\u001b[39m\u001b[22m"
      ]
     },
     "execution_count": 15,
     "metadata": {},
     "output_type": "execute_result"
    }
   ],
   "source": [
    "@test lookup_key(BST1, 99) == nothing"
   ]
  },
  {
   "cell_type": "code",
   "execution_count": 16,
   "metadata": {},
   "outputs": [
    {
     "data": {
      "text/plain": [
       "\u001b[1m\u001b[32mTest Passed\u001b[39m\u001b[22m"
      ]
     },
     "execution_count": 16,
     "metadata": {},
     "output_type": "execute_result"
    }
   ],
   "source": [
    "@test lookup_key(BST10, 1) == \"abc\""
   ]
  },
  {
   "cell_type": "code",
   "execution_count": 17,
   "metadata": {},
   "outputs": [
    {
     "data": {
      "text/plain": [
       "\u001b[1m\u001b[32mTest Passed\u001b[39m\u001b[22m"
      ]
     },
     "execution_count": 17,
     "metadata": {},
     "output_type": "execute_result"
    }
   ],
   "source": [
    "@test lookup_key(BST10, 4) == \"dcj\""
   ]
  },
  {
   "cell_type": "code",
   "execution_count": 18,
   "metadata": {},
   "outputs": [
    {
     "data": {
      "text/plain": [
       "\u001b[1m\u001b[32mTest Passed\u001b[39m\u001b[22m"
      ]
     },
     "execution_count": 18,
     "metadata": {},
     "output_type": "execute_result"
    }
   ],
   "source": [
    "@test lookup_key(BST10, 27) == \"wit\""
   ]
  },
  {
   "cell_type": "code",
   "execution_count": 19,
   "metadata": {},
   "outputs": [
    {
     "data": {
      "text/plain": [
       "\u001b[1m\u001b[32mTest Passed\u001b[39m\u001b[22m"
      ]
     },
     "execution_count": 19,
     "metadata": {},
     "output_type": "execute_result"
    }
   ],
   "source": [
    "@test lookup_key(BST10, 50) == \"dug\""
   ]
  },
  {
   "cell_type": "markdown",
   "metadata": {},
   "source": [
    "# Hell YA!!!!!!!!"
   ]
  },
  {
   "cell_type": "code",
   "execution_count": null,
   "metadata": {},
   "outputs": [],
   "source": []
  }
 ],
 "metadata": {
  "kernelspec": {
   "display_name": "Julia 0.6.3",
   "language": "julia",
   "name": "julia-0.6"
  },
  "language_info": {
   "file_extension": ".jl",
   "mimetype": "application/julia",
   "name": "julia",
   "version": "0.6.3"
  }
 },
 "nbformat": 4,
 "nbformat_minor": 2
}
