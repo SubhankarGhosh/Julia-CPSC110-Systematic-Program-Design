{
 "cells": [
  {
   "cell_type": "code",
   "execution_count": 2,
   "metadata": {},
   "outputs": [],
   "source": [
    "# Element is (make-elt String Integer ListOfElement)\n",
    "# interp. An element in the file system, with name, and EITHER data or subs.\n",
    "#         If data is 0, then subs is considered to be list of sub elements.\n",
    "#         If data is not 0, then subs is ignored.\n",
    "\n",
    "# ListOfElement is one of:\n",
    "#  - nothing\n",
    "#  - (cons Element ListOfElement)\n",
    "# interp. A list of file system Elements"
   ]
  },
  {
   "cell_type": "code",
   "execution_count": 3,
   "metadata": {},
   "outputs": [],
   "source": [
    "struct element\n",
    "    name::String\n",
    "    data::Int64\n",
    "    loe\n",
    "end"
   ]
  },
  {
   "cell_type": "code",
   "execution_count": 4,
   "metadata": {},
   "outputs": [
    {
     "data": {
      "text/plain": [
       "element(\"D6\", 0, element[element(\"D4\", 0, element[element(\"F1\", 1, nothing), element(\"F2\", 2, nothing)]), element(\"D5\", 0, element[element(\"F3\", 3, nothing)])])"
      ]
     },
     "execution_count": 4,
     "metadata": {},
     "output_type": "execute_result"
    }
   ],
   "source": [
    "F1 = element(\"F1\", 1, nothing)\n",
    "F2 = element(\"F2\", 2, nothing)\n",
    "F3 = element(\"F3\", 3, nothing)\n",
    "D4 = element(\"D4\", 0, [F1, F2])\n",
    "D5 = element(\"D5\", 0, [F3])\n",
    "D6 = element(\"D6\", 0, [D4, D5])"
   ]
  },
  {
   "cell_type": "code",
   "execution_count": 5,
   "metadata": {},
   "outputs": [],
   "source": [
    "F3.loe"
   ]
  },
  {
   "cell_type": "code",
   "execution_count": 6,
   "metadata": {},
   "outputs": [
    {
     "data": {
      "text/plain": [
       "2-element Array{element,1}:\n",
       " element(\"D4\", 0, element[element(\"F1\", 1, nothing), element(\"F2\", 2, nothing)])\n",
       " element(\"D5\", 0, element[element(\"F3\", 3, nothing)])                           "
      ]
     },
     "execution_count": 6,
     "metadata": {},
     "output_type": "execute_result"
    }
   ],
   "source": [
    "D6.loe"
   ]
  },
  {
   "cell_type": "code",
   "execution_count": 7,
   "metadata": {},
   "outputs": [],
   "source": [
    "# Element       -> ListOfString\n",
    "# ListOfElement -> ListOfString\n",
    "# produce list of the names of all the elements in the tree"
   ]
  },
  {
   "cell_type": "code",
   "execution_count": 8,
   "metadata": {},
   "outputs": [],
   "source": [
    "using Base.Test"
   ]
  },
  {
   "cell_type": "code",
   "execution_count": 9,
   "metadata": {},
   "outputs": [
    {
     "name": "stdout",
     "output_type": "stream",
     "text": [
      "\u001b[1m\u001b[91mError During Test\n",
      "\u001b[39m\u001b[22m  Test threw an exception of type UndefVarError\n",
      "  Expression: all_names_loe(nothing) == nothing\n",
      "  \u001b[91mUndefVarError: all_names_loe not defined\u001b[39m\n",
      "  Stacktrace:\n",
      "   [1] \u001b[1minclude_string\u001b[22m\u001b[22m\u001b[1m(\u001b[22m\u001b[22m::String, ::String\u001b[1m)\u001b[22m\u001b[22m at \u001b[1m./loading.jl:522\u001b[22m\u001b[22m\n",
      "   [2] \u001b[1mexecute_request\u001b[22m\u001b[22m\u001b[1m(\u001b[22m\u001b[22m::ZMQ.Socket, ::IJulia.Msg\u001b[1m)\u001b[22m\u001b[22m at \u001b[1m/home/subhankar/.julia/v0.6/IJulia/src/execute_request.jl:158\u001b[22m\u001b[22m\n",
      "   [3] \u001b[1m(::Compat.#inner#18{Array{Any,1},IJulia.#execute_request,Tuple{ZMQ.Socket,IJulia.Msg}})\u001b[22m\u001b[22m\u001b[1m(\u001b[22m\u001b[22m\u001b[1m)\u001b[22m\u001b[22m at \u001b[1m/home/subhankar/.julia/v0.6/Compat/src/Compat.jl:378\u001b[22m\u001b[22m\n",
      "   [4] \u001b[1meventloop\u001b[22m\u001b[22m\u001b[1m(\u001b[22m\u001b[22m::ZMQ.Socket\u001b[1m)\u001b[22m\u001b[22m at \u001b[1m/home/subhankar/.julia/v0.6/IJulia/src/eventloop.jl:8\u001b[22m\u001b[22m\n",
      "   [5] \u001b[1m(::IJulia.##14#17)\u001b[22m\u001b[22m\u001b[1m(\u001b[22m\u001b[22m\u001b[1m)\u001b[22m\u001b[22m at \u001b[1m./task.jl:335\u001b[22m\u001b[22m\n"
     ]
    },
    {
     "ename": "LoadError",
     "evalue": "\u001b[91mThere was an error during testing\u001b[39m",
     "output_type": "error",
     "traceback": [
      "\u001b[91mThere was an error during testing\u001b[39m",
      "",
      "Stacktrace:",
      " [1] \u001b[1mrecord\u001b[22m\u001b[22m\u001b[1m(\u001b[22m\u001b[22m::Base.Test.FallbackTestSet, ::Base.Test.Error\u001b[1m)\u001b[22m\u001b[22m at \u001b[1m./test.jl:533\u001b[22m\u001b[22m",
      " [2] \u001b[1mdo_test\u001b[22m\u001b[22m\u001b[1m(\u001b[22m\u001b[22m::Base.Test.Threw, ::Expr\u001b[1m)\u001b[22m\u001b[22m at \u001b[1m./test.jl:352\u001b[22m\u001b[22m"
     ]
    }
   ],
   "source": [
    "@test all_names_loe(nothing) == nothing \n",
    "@test all_names_loe(F1) == [\"F1\"]\n",
    "@test all_names_loe(D5) == [\"D5\", \"F3\"]\n",
    "@test all_names_loe(D4) == [\"D4\", \"F1\", \"F2\"]\n",
    "@test all_names_loe([D4, D5]) == [\"D4\", \"F1\", \"F2\", \"D5\", \"F3\"]\n",
    "@test all_names_loe(D6) == [\"D6\", \"D4\", \"F1\", \"F2\", \"D5\", \"F3\"]\n",
    "@test all_names_loe(D6) == [\"D6\", \"D4\", \"F1\", \"F2\", \"D5\", \"F3\"]"
   ]
  },
  {
   "cell_type": "code",
   "execution_count": 10,
   "metadata": {},
   "outputs": [
    {
     "data": {
      "text/plain": [
       "all_names_element (generic function with 1 method)"
      ]
     },
     "execution_count": 10,
     "metadata": {},
     "output_type": "execute_result"
    }
   ],
   "source": [
    "function all_names_element(e)\n",
    "    if e.data == 0\n",
    "        all_names_loe(e.loe)\n",
    "    else\n",
    "        e.name\n",
    "    end\n",
    "end"
   ]
  },
  {
   "cell_type": "code",
   "execution_count": 17,
   "metadata": {},
   "outputs": [
    {
     "data": {
      "text/plain": [
       "all_names_loe (generic function with 1 method)"
      ]
     },
     "execution_count": 17,
     "metadata": {},
     "output_type": "execute_result"
    }
   ],
   "source": [
    "function all_names_loe(loe)\n",
    "    loe = (typeof(loe)==element)?[loe]:loe\n",
    "    if loe == nothing\n",
    "        nothing\n",
    "    else\n",
    "        (length(loe)>1)?(push!([all_names_element(loe[1])], all_names_loe(loe[2:end]))):all_names_element(loe[1].name)\n",
    "    end\n",
    "end"
   ]
  },
  {
   "cell_type": "code",
   "execution_count": 18,
   "metadata": {},
   "outputs": [
    {
     "data": {
      "text/plain": [
       "\u001b[1m\u001b[32mTest Passed\u001b[39m\u001b[22m"
      ]
     },
     "execution_count": 18,
     "metadata": {},
     "output_type": "execute_result"
    }
   ],
   "source": [
    "@test all_names_loe(nothing) == nothing"
   ]
  },
  {
   "cell_type": "code",
   "execution_count": 19,
   "metadata": {},
   "outputs": [
    {
     "name": "stdout",
     "output_type": "stream",
     "text": [
      "\u001b[1m\u001b[91mError During Test\n",
      "\u001b[39m\u001b[22m  Test threw an exception of type ErrorException\n",
      "  Expression: all_names_loe(F1) == \"F1\"\n",
      "  \u001b[91mtype String has no field data\n",
      "  Use `Vector{UInt8}(str)` instead.\u001b[39m\n",
      "  Stacktrace:\n",
      "   [1] \u001b[1mall_names_element\u001b[22m\u001b[22m at \u001b[1m./In[10]:2\u001b[22m\u001b[22m [inlined]\n",
      "   [2] \u001b[1mall_names_loe\u001b[22m\u001b[22m\u001b[1m(\u001b[22m\u001b[22m::element\u001b[1m)\u001b[22m\u001b[22m at \u001b[1m./In[17]:6\u001b[22m\u001b[22m\n",
      "   [3] \u001b[1minclude_string\u001b[22m\u001b[22m\u001b[1m(\u001b[22m\u001b[22m::String, ::String\u001b[1m)\u001b[22m\u001b[22m at \u001b[1m./loading.jl:522\u001b[22m\u001b[22m\n",
      "   [4] \u001b[1mexecute_request\u001b[22m\u001b[22m\u001b[1m(\u001b[22m\u001b[22m::ZMQ.Socket, ::IJulia.Msg\u001b[1m)\u001b[22m\u001b[22m at \u001b[1m/home/subhankar/.julia/v0.6/IJulia/src/execute_request.jl:158\u001b[22m\u001b[22m\n",
      "   [5] \u001b[1m(::Compat.#inner#18{Array{Any,1},IJulia.#execute_request,Tuple{ZMQ.Socket,IJulia.Msg}})\u001b[22m\u001b[22m\u001b[1m(\u001b[22m\u001b[22m\u001b[1m)\u001b[22m\u001b[22m at \u001b[1m/home/subhankar/.julia/v0.6/Compat/src/Compat.jl:378\u001b[22m\u001b[22m\n",
      "   [6] \u001b[1meventloop\u001b[22m\u001b[22m\u001b[1m(\u001b[22m\u001b[22m::ZMQ.Socket\u001b[1m)\u001b[22m\u001b[22m at \u001b[1m/home/subhankar/.julia/v0.6/IJulia/src/eventloop.jl:8\u001b[22m\u001b[22m\n",
      "   [7] \u001b[1m(::IJulia.##14#17)\u001b[22m\u001b[22m\u001b[1m(\u001b[22m\u001b[22m\u001b[1m)\u001b[22m\u001b[22m at \u001b[1m./task.jl:335\u001b[22m\u001b[22m\n"
     ]
    },
    {
     "ename": "LoadError",
     "evalue": "\u001b[91mThere was an error during testing\u001b[39m",
     "output_type": "error",
     "traceback": [
      "\u001b[91mThere was an error during testing\u001b[39m",
      "",
      "Stacktrace:",
      " [1] \u001b[1mrecord\u001b[22m\u001b[22m\u001b[1m(\u001b[22m\u001b[22m::Base.Test.FallbackTestSet, ::Base.Test.Error\u001b[1m)\u001b[22m\u001b[22m at \u001b[1m./test.jl:533\u001b[22m\u001b[22m",
      " [2] \u001b[1mdo_test\u001b[22m\u001b[22m\u001b[1m(\u001b[22m\u001b[22m::Base.Test.Threw, ::Expr\u001b[1m)\u001b[22m\u001b[22m at \u001b[1m./test.jl:352\u001b[22m\u001b[22m"
     ]
    }
   ],
   "source": [
    "@test all_names_loe(F1) == \"F1\""
   ]
  },
  {
   "cell_type": "code",
   "execution_count": 20,
   "metadata": {},
   "outputs": [
    {
     "ename": "LoadError",
     "evalue": "\u001b[91mtype String has no field data\nUse `Vector{UInt8}(str)` instead.\u001b[39m",
     "output_type": "error",
     "traceback": [
      "\u001b[91mtype String has no field data\nUse `Vector{UInt8}(str)` instead.\u001b[39m",
      "",
      "Stacktrace:",
      " [1] \u001b[1mall_names_element\u001b[22m\u001b[22m at \u001b[1m./In[10]:2\u001b[22m\u001b[22m [inlined]",
      " [2] \u001b[1mall_names_loe\u001b[22m\u001b[22m\u001b[1m(\u001b[22m\u001b[22m::element\u001b[1m)\u001b[22m\u001b[22m at \u001b[1m./In[17]:6\u001b[22m\u001b[22m"
     ]
    }
   ],
   "source": [
    "all_names_loe(F1)"
   ]
  },
  {
   "cell_type": "code",
   "execution_count": null,
   "metadata": {},
   "outputs": [],
   "source": []
  }
 ],
 "metadata": {
  "kernelspec": {
   "display_name": "Julia 0.6.3",
   "language": "julia",
   "name": "julia-0.6"
  },
  "language_info": {
   "file_extension": ".jl",
   "mimetype": "application/julia",
   "name": "julia",
   "version": "0.6.3"
  }
 },
 "nbformat": 4,
 "nbformat_minor": 2
}
